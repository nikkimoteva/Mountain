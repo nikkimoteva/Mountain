{
 "cells": [
  {
   "cell_type": "code",
   "execution_count": 1,
   "metadata": {},
   "outputs": [],
   "source": [
    "import config"
   ]
  },
  {
   "cell_type": "code",
   "execution_count": 4,
   "metadata": {},
   "outputs": [],
   "source": [
    "from newsapi import NewsApiClient\n",
    "\n",
    "api_key = config.GOOGLE_NEWS_API_KEY\n",
    "newsapi = NewsApiClient(api_key)"
   ]
  },
  {
   "cell_type": "code",
   "execution_count": 61,
   "metadata": {},
   "outputs": [],
   "source": [
    "top_headlines = newsapi.get_top_headlines(q='iran',\n",
    "                                          category='business',\n",
    "                                          language='en',\n",
    "                                          country='ca')"
   ]
  },
  {
   "cell_type": "code",
   "execution_count": 62,
   "metadata": {},
   "outputs": [
    {
     "data": {
      "text/plain": [
       "[]"
      ]
     },
     "execution_count": 62,
     "metadata": {},
     "output_type": "execute_result"
    }
   ],
   "source": [
    "top_headlines[\"articles\"]"
   ]
  },
  {
   "cell_type": "code",
   "execution_count": 65,
   "metadata": {},
   "outputs": [],
   "source": [
    "top_headlines2 = newsapi.get_top_headlines(q='china',\n",
    "                                          category='general',\n",
    "                                          language='en',\n",
    "                                          country='ca')"
   ]
  },
  {
   "cell_type": "code",
   "execution_count": 66,
   "metadata": {},
   "outputs": [
    {
     "data": {
      "text/plain": [
       "[{'source': {'id': 'cbc-news', 'name': 'CBC News'},\n",
       "  'author': None,\n",
       "  'title': \"Taiwan's independence-leaning president wins 2nd term - CBC.ca\",\n",
       "  'description': 'Taiwanese President Tsai Ing-wen has won a second term, signalling strong voter support for her tough stance against China.',\n",
       "  'url': 'https://www.cbc.ca/news/world/taiwan-election-1.5423657',\n",
       "  'urlToImage': 'https://i.cbc.ca/1.5423658.1578744285!/fileImage/httpImage/image.jpg_gen/derivatives/16x9_620/1192978809.jpg',\n",
       "  'publishedAt': '2020-01-11T12:17:00Z',\n",
       "  'content': \"Taiwanese President Tsai Ing-wen has won a second term, signalling strong voter support for her tough stance against China.\\r\\nTsai defeated two challengers in Saturday's election Han Kuo-yu of the rival Nationalist Party and James Soong of the smaller People F… [+2608 chars]\"},\n",
       " {'source': {'id': None, 'name': 'Dailyfx.com'},\n",
       "  'author': 'Nick Cawley',\n",
       "  'title': 'Crude Oil Weekly Forecast: Oil Price Needs Support, Eyes US-China Trade Deal - DailyFX',\n",
       "  'description': 'Next week’s signing of phase one of the US-China trade deal, on January 15, may underpin crude oil prices at current levels after this week’s sharp selloff.',\n",
       "  'url': 'https://www.dailyfx.com/forex/fundamental/forecast/weekly/title/2020/01/11/Crude-Oil-Weekly-Forecast-Oil-Price-Needs-Support-Eyes-US-China-Trade-Deal.html',\n",
       "  'urlToImage': 'https://a.c-dn.net/b/3z2Uvk/headline_OIL_04.JPG',\n",
       "  'publishedAt': '2020-01-11T07:03:50Z',\n",
       "  'content': 'Crude Oil Fundamental Forecast: Neutral\\r\\n<ul><li>Oil bulls rattled after US-Iran risk turns lower.</li><li>US-China trade signing may provide support after recent bear run.</li></ul>\\r\\n Recommended by Nick Cawley\\r\\nTraits of Successful Traders\\r\\nOil Slumps 10% i… [+2483 chars]'},\n",
       " {'source': {'id': None, 'name': 'Thestar.com'},\n",
       "  'author': None,\n",
       "  'title': 'Justin Trudeau owes it to Canadians to get angry for us - Toronto Star',\n",
       "  'description': 'Canada has once again become collateral damage for Donald Trump’s bull-in-a-china-shop foreign policy, and the pattern is so deeply disturbing as to warrant more than just a sigh from the prime minister.',\n",
       "  'url': 'https://www.thestar.com/politics/political-opinion/2020/01/10/justin-trudeau-owes-it-to-canadians-to-get-angry-for-us.html',\n",
       "  'urlToImage': 'https://images.thestar.com/kOjfN4TLCs5A-CoD27fv1bE8xIE=/1200x733/smart/filters:cb(1578766929342)/https://www.thestar.com/content/dam/thestar/politics/political-opinion/2020/01/10/justin-trudeau-owes-it-to-canadians-to-get-angry-for-us/justin_trudeau.jpg',\n",
       "  'publishedAt': '2020-01-10T23:15:00Z',\n",
       "  'content': 'Canada has once again become collateral damage for Donald Trump’s bull-in-a-china-shop foreign policy, and the pattern is so deeply disturbing as to warrant more than just a sigh from the prime minister.\\r\\nJustin Trudeau was subdued Thursday when he said an Ir… [+4150 chars]'},\n",
       " {'source': {'id': None, 'name': 'Who.int'},\n",
       "  'author': None,\n",
       "  'title': 'Emergencies - Cluster of pneumonia cases in Wuhan, China - World Health Organization',\n",
       "  'description': 'On 31 December 2019, the WHO China Country Office was informed of cases of pneumonia of unknown cause detected in the city of Wuhan, Hubei Province, China. Chinese authorities have made a preliminary determination of a new coronavirus, identified in a hospita…',\n",
       "  'url': 'http://www.euro.who.int/en/health-topics/emergencies/pages/news/news/2020/01/cluster-of-pneumonia-cases-in-wuhan,-china',\n",
       "  'urlToImage': 'http://www.euro.who.int/__data/assets/image/0005/243581/who-europe-250.png',\n",
       "  'publishedAt': '2020-01-10T10:24:14Z',\n",
       "  'content': 'On 31 December 2019, the WHO China Country Office was informed of cases of pneumonia of unknown cause detected in the city of Wuhan, Hubei Province, China. Chinese authorities have made a preliminary determination of a new coronavirus, identified in a hospita… [+741 chars]'}]"
      ]
     },
     "execution_count": 66,
     "metadata": {},
     "output_type": "execute_result"
    }
   ],
   "source": [
    "top_headlines2[\"articles\"]"
   ]
  },
  {
   "cell_type": "code",
   "execution_count": null,
   "metadata": {},
   "outputs": [],
   "source": []
  }
 ],
 "metadata": {
  "kernelspec": {
   "display_name": "Python 3",
   "language": "python",
   "name": "python3"
  },
  "language_info": {
   "codemirror_mode": {
    "name": "ipython",
    "version": 3
   },
   "file_extension": ".py",
   "mimetype": "text/x-python",
   "name": "python",
   "nbconvert_exporter": "python",
   "pygments_lexer": "ipython3",
   "version": "3.7.5"
  }
 },
 "nbformat": 4,
 "nbformat_minor": 2
}
