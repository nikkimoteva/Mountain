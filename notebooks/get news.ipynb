{
 "cells": [
  {
   "cell_type": "code",
   "execution_count": 1,
   "metadata": {},
   "outputs": [],
   "source": [
    "import config"
   ]
  },
  {
   "cell_type": "code",
   "execution_count": 4,
   "metadata": {},
   "outputs": [],
   "source": [
    "from newsapi import NewsApiClient\n",
    "\n",
    "api_key = config.GOOGLE_NEWS_API_KEY\n",
    "newsapi = NewsApiClient(api_key)"
   ]
  },
  {
   "cell_type": "code",
   "execution_count": 43,
   "metadata": {},
   "outputs": [],
   "source": [
    "top_headlines = newsapi.get_top_headlines(q='iran',\n",
    "                                          category='general',\n",
    "                                          language='en',\n",
    "                                          country='ca')"
   ]
  },
  {
   "cell_type": "code",
   "execution_count": 44,
   "metadata": {},
   "outputs": [
    {
     "data": {
      "text/plain": [
       "[{'source': {'id': 'cnn', 'name': 'CNN'},\n",
       "  'author': 'Analysis by Paula Newton, CNN',\n",
       "  'title': 'Justin Trudeau toughens his stand on the world stage as he demands justice over plane downed by Iran - CNN',\n",
       "  'description': \"Canadian Prime Minister Justin Trudeau emerged this week from a long holiday break to face a tragedy that may recast his nation's role on the global stage -- and its relationship with its powerful neighbor to the south.\",\n",
       "  'url': 'https://www.cnn.com/2020/01/11/americas/trudeau-trump-ukrainian-plane-crash-iran/index.html',\n",
       "  'urlToImage': 'https://cdn.cnn.com/cnnnext/dam/assets/200109194652-06-week-in-photos-0110-super-tease.jpg',\n",
       "  'publishedAt': '2020-01-11T20:23:00Z',\n",
       "  'content': None},\n",
       " {'source': {'id': 'business-insider', 'name': 'Business Insider'},\n",
       "  'author': 'Alex Morrell',\n",
       "  'title': 'Trump goes on Twitter tear as Pelosi readies articles of impeachment - Business Insider',\n",
       "  'description': 'Trump unloaded on Pelosi and the Democrats in a series of tweets, lambasting impeachment as well as critics of his military confrontation with Iran.',\n",
       "  'url': 'https://www.businessinsider.com/trump-twitter-pelosi-readies-articles-of-impeachment-2020-1',\n",
       "  'urlToImage': 'https://image.businessinsider.com/588d5a7e713ba117398b4e3f?width=1200&format=jpeg',\n",
       "  'publishedAt': '2020-01-11T18:36:27Z',\n",
       "  'content': 'With House Speaker Nancy Pelosi preparing to send articles of impeachment against President Donald Trump to the Senate next week, the president aired his grievances Saturday in a customary morning Twitter spree.\\r\\nAfter a weeks-long standoff between Democrats … [+2771 chars]'},\n",
       " {'source': {'id': 'the-globe-and-mail', 'name': 'The Globe And Mail'},\n",
       "  'author': None,\n",
       "  'title': \"Trump's gamble, Iran's revenge, Canada's tragedy: Three consequences of a changing balance of power in the Middle East - The Globe and Mail\",\n",
       "  'description': 'The U.S. killing of General Qassem Soleimani was a belated effort to reclaim the influence Washington has lost (and Tehran and others have gained) since the 2003 Iraq War, analysts say – and the chaotic changes in the region are far from over',\n",
       "  'url': 'https://www.theglobeandmail.com/world/article-trumps-gamble-irans-revenge-canadas-tragedy-three-consequences/',\n",
       "  'urlToImage': 'https://www.theglobeandmail.com/resizer/O7FQP4vqXjt_m3C6XH3ktyJ4G5Q=/1200x0/filters:quality(80)/arc-anglerfish-tgam-prod-tgam.s3.amazonaws.com/public/E67HT7OIU5HS5KPJ4YYDSCR2OI.jpg',\n",
       "  'publishedAt': '2020-01-11T13:19:45Z',\n",
       "  'content': 'Tehran, Jan. 6: A mourner holds a picture of Gen. Qassem Soleimani after a funeral ceremony for him as she walks past the former U.S. embassy in Tehran, now surrounded by satirical graffiti of the U.S. flag. Days earlier, the United States killed the top Iran… [+23140 chars]'},\n",
       " {'source': {'id': None, 'name': 'Youtube.com'},\n",
       "  'author': None,\n",
       "  'title': \"Footage appears to show 'Iranian missile' bring down Ukrainian plane - The Sun\",\n",
       "  'description': 'Enjoy the videos and music you love, upload original content, and share it all with friends, family, and the world on YouTube.',\n",
       "  'url': 'https://www.youtube.com/watch?v=Pb7h0pTAO9U',\n",
       "  'urlToImage': None,\n",
       "  'publishedAt': '2020-01-10T00:26:57Z',\n",
       "  'content': '[[getSimpleString(data.title)]]\\r\\n[[getSimpleString(data.description)]]\\r\\n[[getSimpleString(data.videoCountText)]]'}]"
      ]
     },
     "execution_count": 44,
     "metadata": {},
     "output_type": "execute_result"
    }
   ],
   "source": [
    "top_headlines[\"articles\"]"
   ]
  },
  {
   "cell_type": "code",
   "execution_count": 57,
   "metadata": {},
   "outputs": [],
   "source": [
    "top_headlines2 = newsapi.get_top_headlines(q='china',\n",
    "                                          category='business',\n",
    "                                          language='en',\n",
    "                                          country='ca')"
   ]
  },
  {
   "cell_type": "code",
   "execution_count": 58,
   "metadata": {},
   "outputs": [
    {
     "data": {
      "text/plain": [
       "[{'source': {'id': 'reuters', 'name': 'Reuters'},\n",
       "  'author': 'Yilei Sun',\n",
       "  'title': 'China says no significant cut in new energy vehicle subsidies in 2020 - Reuters UK',\n",
       "  'description': 'China will not cut subsidies for new energy vehicles (NEV) again in July, Miao Wei, its minister for industry and information technology, said on Saturday, in a move that could bring some respite for vehicle makers.',\n",
       "  'url': 'https://uk.reuters.com/article/us-china-autos-idUKKCN1ZA09Z',\n",
       "  'urlToImage': 'https://s3.reutersmedia.net/resources/r/?m=02&d=20200111&t=2&i=1474998959&w=1200&r=LYNXNPEG0A087',\n",
       "  'publishedAt': '2020-01-11T08:54:00Z',\n",
       "  'content': 'BEIJING/SHANGHAI (Reuters) - China will not cut subsidies for new energy vehicles (NEV) again in July, Miao Wei, its minister for industry and information technology, said on Saturday, in a move that could bring some respite for vehicle makers. \\r\\nChina has be… [+1585 chars]'},\n",
       " {'source': {'id': None, 'name': 'Dailyfx.com'},\n",
       "  'author': 'Nick Cawley',\n",
       "  'title': 'Crude Oil Weekly Forecast: Oil Price Needs Support, Eyes US-China Trade Deal - DailyFX',\n",
       "  'description': 'Next week’s signing of phase one of the US-China trade deal, on January 15, may underpin crude oil prices at current levels after this week’s sharp selloff.',\n",
       "  'url': 'https://www.dailyfx.com/forex/fundamental/forecast/weekly/title/2020/01/11/Crude-Oil-Weekly-Forecast-Oil-Price-Needs-Support-Eyes-US-China-Trade-Deal.html',\n",
       "  'urlToImage': 'https://a.c-dn.net/b/3z2Uvk/headline_OIL_04.JPG',\n",
       "  'publishedAt': '2020-01-11T07:03:50Z',\n",
       "  'content': 'Crude Oil Fundamental Forecast: Neutral\\r\\n<ul><li>Oil bulls rattled after US-Iran risk turns lower.</li><li>US-China trade signing may provide support after recent bear run.</li></ul>\\r\\n Recommended by Nick Cawley\\r\\nTraits of Successful Traders\\r\\nOil Slumps 10% i… [+2483 chars]'},\n",
       " {'source': {'id': 'cnn', 'name': 'CNN'},\n",
       "  'author': 'Anneken Tappe, CNN Business',\n",
       "  'title': \"Trump's trade deal with China won't save the global economy - CNN\",\n",
       "  'description': '\"Phase one\" trade deal or not, the global economy still faces growth challenges in 2020.',\n",
       "  'url': 'https://www.cnn.com/2020/01/09/economy/world-bank-global-growth-2020/index.html',\n",
       "  'urlToImage': 'https://cdn.cnn.com/cnnnext/dam/assets/191120120347-global-economy-shipping-containers-super-tease.jpg',\n",
       "  'publishedAt': '2020-01-10T14:22:00Z',\n",
       "  'content': \"New York (CNN Business)The Trump administration's trade skirmish with China appears to have reached a reprieve. That's something the world's economy, which has been badly damaged in the trade war, should welcome. But the global economy still faces significant… [+2088 chars]\"},\n",
       " {'source': {'id': None, 'name': 'Hongkongfp.com'},\n",
       "  'author': 'https://www.facebook.com/AFPnewsenglish?fref=ts',\n",
       "  'title': \"Ex-UK consulate staffer Simon Cheng cuts ties with Hong Kong family to avoid 'harassment' - Hong Kong Free Press\",\n",
       "  'description': 'A former British consulate employee who was detained in China last year said he has cut ties with his family and relatives in\\xa0Hong Kong\\xa0and the mainland to avoid them being harassed. Simon Cheng’s case triggered a diplomatic row between London and Beijing at …',\n",
       "  'url': 'https://www.hongkongfp.com/2020/01/10/ex-uk-consulate-staffer-simon-cheng-cuts-ties-hong-kong-family-avoid-harassment/',\n",
       "  'urlToImage': 'https://www.hongkongfp.com/wp-content/uploads/2020/01/POWERPNT_2020-01-10_17-47-29.jpg',\n",
       "  'publishedAt': '2020-01-10T07:59:57Z',\n",
       "  'content': 'A former British consulate employee who was detained in China last year said he has cut ties with his family and relatives in\\xa0Hong Kong\\xa0and the mainland to avoid them being harassed.\\r\\nSimon Cheng’s case triggered a diplomatic row between London and Beijing at… [+2013 chars]'}]"
      ]
     },
     "execution_count": 58,
     "metadata": {},
     "output_type": "execute_result"
    }
   ],
   "source": [
    "top_headlines2[\"articles\"]"
   ]
  },
  {
   "cell_type": "code",
   "execution_count": null,
   "metadata": {},
   "outputs": [],
   "source": []
  }
 ],
 "metadata": {
  "kernelspec": {
   "display_name": "Python 3",
   "language": "python",
   "name": "python3"
  },
  "language_info": {
   "codemirror_mode": {
    "name": "ipython",
    "version": 3
   },
   "file_extension": ".py",
   "mimetype": "text/x-python",
   "name": "python",
   "nbconvert_exporter": "python",
   "pygments_lexer": "ipython3",
   "version": "3.7.5"
  }
 },
 "nbformat": 4,
 "nbformat_minor": 2
}
