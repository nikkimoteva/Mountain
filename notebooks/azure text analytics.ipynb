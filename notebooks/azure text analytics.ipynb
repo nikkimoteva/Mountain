{
 "cells": [
  {
   "cell_type": "code",
   "execution_count": 28,
   "metadata": {},
   "outputs": [],
   "source": [
    "document = {\"document\" :\n",
    "    [{'source': {'id': 'cnn', 'name': 'CNN'},\n",
    "      'author': 'Analysis by Paula Newton, CNN',\n",
    "      'title': 'Justin Trudeau toughens his stand on the world stage as he demands justice over plane downed by Iran - CNN',\n",
    "      'description': \"Canadian Prime Minister Justin Trudeau emerged this week from a long holiday break to face a tragedy that may recast his nation's role on the global stage -- and its relationship with its powerful neighbor to the south.\",\n",
    "      'url': 'https://www.cnn.com/2020/01/11/americas/trudeau-trump-ukrainian-plane-crash-iran/index.html',\n",
    "      'urlToImage': 'https://cdn.cnn.com/cnnnext/dam/assets/200109194652-06-week-in-photos-0110-super-tease.jpg',\n",
    "      'publishedAt': '2020-01-11T20:23:00Z',\n",
    "      'content': None},\n",
    "     {'source': {'id': 'business-insider', 'name': 'Business Insider'},\n",
    "      'author': 'Alex Morrell',\n",
    "      'title': 'Trump goes on Twitter tear as Pelosi readies articles of impeachment - Business Insider',\n",
    "      'description': 'Trump unloaded on Pelosi and the Democrats in a series of tweets, lambasting impeachment as well as critics of his military confrontation with Iran.',\n",
    "      'url': 'https://www.businessinsider.com/trump-twitter-pelosi-readies-articles-of-impeachment-2020-1',\n",
    "      'urlToImage': 'https://image.businessinsider.com/588d5a7e713ba117398b4e3f?width=1200&format=jpeg',\n",
    "      'publishedAt': '2020-01-11T18:36:27Z',\n",
    "      'content': 'With House Speaker Nancy Pelosi preparing to send articles of impeachment against President Donald Trump to the Senate next week, the president aired his grievances Saturday in a customary morning Twitter spree.\\r\\nAfter a weeks-long standoff between Democrats … [+2771 chars]'},\n",
    "     {'source': {'id': 'the-globe-and-mail', 'name': 'The Globe And Mail'},\n",
    "      'author': None,\n",
    "      'title': \"Trump's gamble, Iran's revenge, Canada's tragedy: Three consequences of a changing balance of power in the Middle East - The Globe and Mail\",\n",
    "      'description': 'The U.S. killing of General Qassem Soleimani was a belated effort to reclaim the influence Washington has lost (and Tehran and others have gained) since the 2003 Iraq War, analysts say – and the chaotic changes in the region are far from over',\n",
    "      'url': 'https://www.theglobeandmail.com/world/article-trumps-gamble-irans-revenge-canadas-tragedy-three-consequences/',\n",
    "      'urlToImage': 'https://www.theglobeandmail.com/resizer/O7FQP4vqXjt_m3C6XH3ktyJ4G5Q=/1200x0/filters:quality(80)/arc-anglerfish-tgam-prod-tgam.s3.amazonaws.com/public/E67HT7OIU5HS5KPJ4YYDSCR2OI.jpg',\n",
    "      'publishedAt': '2020-01-11T13:19:45Z',\n",
    "      'content': 'Tehran, Jan. 6: A mourner holds a picture of Gen. Qassem Soleimani after a funeral ceremony for him as she walks past the former U.S. embassy in Tehran, now surrounded by satirical graffiti of the U.S. flag. Days earlier, the United States killed the top Iran… [+23140 chars]'},\n",
    "     {'source': {'id': None, 'name': 'Youtube.com'},\n",
    "      'author': None,\n",
    "      'title': \"Footage appears to show 'Iranian missile' bring down Ukrainian plane - The Sun\",\n",
    "      'description': 'Enjoy the videos and music you love, upload original content, and share it all with friends, family, and the world on YouTube.',\n",
    "      'url': 'https://www.youtube.com/watch?v=Pb7h0pTAO9U',\n",
    "      'urlToImage': None,\n",
    "      'publishedAt': '2020-01-10T00:26:57Z',\n",
    "      'content': '[[getSimpleString(data.title)]]\\r\\n[[getSimpleString(data.description)]]\\r\\n[[getSimpleString(data.videoCountText)]]'},\n",
    "     {'source': {'id': None, 'name': 'Journaldugeek.com'},\n",
    "      'author': 'Gregori Pujol',\n",
    "      'title': '[Bon Plan] Sosh propose à nouveau son forfait mobile 50Go à 9,99€/mois',\n",
    "      'description': 'Sosh propose actuellement son forfait mobile 50Go de data au prix de 9,99€/mois pendant un an !',\n",
    "      'url': 'http://www.journaldugeek.com/2019/12/23/forfait-sosh-50go/',\n",
    "      'urlToImage': 'http://www.journaldugeek.com/content/uploads/2019/12/990x225-990x225ff-mobile-50go-9e99-fin-26-12-19-163974.png',\n",
    "      'publishedAt': '2019-12-23T14:05:00Z',\n",
    "      'content': \"Cette promotion concerne donc le forfait\\xa050Go au prix de 9,99 euros par mois pendant 12 mois (puis 24,99 euros). Dans ce forfait on retrouve notamment les appels / SMS / MMS\\xa0illimités en France et depuis l'Europe\\xa0+ les SMS illimités depuis la France vers lEur… [+317 chars]\"}]\n",
    "}\n"
   ]
  },
  {
   "cell_type": "code",
   "execution_count": 2,
   "metadata": {},
   "outputs": [
    {
     "data": {
      "text/plain": [
       "{'source': {'id': 'business-insider', 'name': 'Business Insider'},\n",
       " 'author': 'Alex Morrell',\n",
       " 'title': 'Trump goes on Twitter tear as Pelosi readies articles of impeachment - Business Insider',\n",
       " 'description': 'Trump unloaded on Pelosi and the Democrats in a series of tweets, lambasting impeachment as well as critics of his military confrontation with Iran.',\n",
       " 'url': 'https://www.businessinsider.com/trump-twitter-pelosi-readies-articles-of-impeachment-2020-1',\n",
       " 'urlToImage': 'https://image.businessinsider.com/588d5a7e713ba117398b4e3f?width=1200&format=jpeg',\n",
       " 'publishedAt': '2020-01-11T18:36:27Z',\n",
       " 'content': 'With House Speaker Nancy Pelosi preparing to send articles of impeachment against President Donald Trump to the Senate next week, the president aired his grievances Saturday in a customary morning Twitter spree.\\r\\nAfter a weeks-long standoff between Democrats … [+2771 chars]'}"
      ]
     },
     "execution_count": 2,
     "metadata": {},
     "output_type": "execute_result"
    }
   ],
   "source": [
    "document[\"document\"][0]\n",
    "\n",
    "document[\"document\"][1]"
   ]
  },
  {
   "cell_type": "code",
   "execution_count": 3,
   "metadata": {},
   "outputs": [
    {
     "name": "stdout",
     "output_type": "stream",
     "text": [
      "Canadian Prime Minister Justin Trudeau emerged this week from a long holiday break to face a tragedy that may recast his nation's role on the global stage -- and its relationship with its powerful neighbor to the south. \n",
      "\n",
      "Trump unloaded on Pelosi and the Democrats in a series of tweets, lambasting impeachment as well as critics of his military confrontation with Iran. \n",
      "\n",
      "The U.S. killing of General Qassem Soleimani was a belated effort to reclaim the influence Washington has lost (and Tehran and others have gained) since the 2003 Iraq War, analysts say – and the chaotic changes in the region are far from over \n",
      "\n",
      "Enjoy the videos and music you love, upload original content, and share it all with friends, family, and the world on YouTube. \n",
      "\n"
     ]
    }
   ],
   "source": [
    "for content in document[\"document\"]:\n",
    "    print(content['description'], \"\\n\")"
   ]
  },
  {
   "cell_type": "code",
   "execution_count": 4,
   "metadata": {},
   "outputs": [
    {
     "name": "stdout",
     "output_type": "stream",
     "text": [
      "Footage appears to show 'Iranian missile' bring down Ukrainian plane - The Sun\n"
     ]
    }
   ],
   "source": [
    "import re\n",
    "doc_mount = {\"id\": \"value\",\n",
    "             \"text\": \"value\"}\n",
    "text = \"\"\n",
    "for i in range(len(document[\"document\"])):\n",
    "    if document[\"document\"][i][\"source\"]['name'] == 'Youtube.com':\n",
    "        print(document[\"document\"][i][\"title\"])\n",
    "        document[\"document\"][i][\"title\"] = re.split(\"-\", document[\"document\"][i][\"title\"])[0]\n",
    "        text = \"title\"\n",
    "    else:\n",
    "        text = \"description\"\n",
    "    doc_mount[\"id\"] = document[\"document\"][i][\"url\"]\n",
    "    doc_mount[\"text\"] = document[\"document\"][i][text]"
   ]
  },
  {
   "cell_type": "code",
   "execution_count": 5,
   "metadata": {},
   "outputs": [
    {
     "data": {
      "text/plain": [
       "['I love mom', ' The Sun']"
      ]
     },
     "execution_count": 5,
     "metadata": {},
     "output_type": "execute_result"
    }
   ],
   "source": [
    "\"I love mom - The Sun\".rsplit(\" -\", 1)"
   ]
  },
  {
   "cell_type": "code",
   "execution_count": 6,
   "metadata": {},
   "outputs": [
    {
     "name": "stdout",
     "output_type": "stream",
     "text": [
      "[{'id': 'https://www.cnn.com/2020/01/11/americas/trudeau-trump-ukrainian-plane-crash-iran/index.html', 'text': \"Justin Trudeau toughens his stand on the world stage as he demands justice over plane downed by Iran Canadian Prime Minister Justin Trudeau emerged this week from a long holiday break to face a tragedy that may recast his nation's role on the global stage -- and its relationship with its powerful neighbor to the south.\"}, {'id': 'https://www.businessinsider.com/trump-twitter-pelosi-readies-articles-of-impeachment-2020-1', 'text': 'Trump goes on Twitter tear as Pelosi readies articles of impeachment Trump unloaded on Pelosi and the Democrats in a series of tweets, lambasting impeachment as well as critics of his military confrontation with Iran.'}, {'id': 'https://www.theglobeandmail.com/world/article-trumps-gamble-irans-revenge-canadas-tragedy-three-consequences/', 'text': \"Trump's gamble, Iran's revenge, Canada's tragedy: Three consequences of a changing balance of power in the Middle East The U.S. killing of General Qassem Soleimani was a belated effort to reclaim the influence Washington has lost (and Tehran and others have gained) since the 2003 Iraq War, analysts say – and the chaotic changes in the region are far from over\"}, {'id': 'https://www.youtube.com/watch?v=Pb7h0pTAO9U', 'text': \"Footage appears to show 'Iranian missile' bring down Ukrainian plane \"}]\n"
     ]
    }
   ],
   "source": [
    "doc_mount = {\"docs\": [\n",
    "                {\"id\": None,\n",
    "                 \"text\": None}]\n",
    "            }\n",
    "text = \"\"\n",
    "doc_mount = [dict() for x in range(len(document[\"document\"]))]\n",
    "for i in range(len(document[\"document\"])):\n",
    "    doc_mount[i][\"id\"] = document[\"document\"][i][\"url\"]\n",
    "    title = document[\"document\"][i][\"title\"].rsplit(\" -\", 1)[0]\n",
    "    if document[\"document\"][i][\"source\"]['name'] == 'Youtube.com':\n",
    "        doc_mount[i][\"text\"] = title\n",
    "    else:\n",
    "        doc_mount[i][\"text\"] = title + \" \" + document[\"document\"][i][\"description\"]\n",
    "\n",
    "\n",
    "print(doc_mount)"
   ]
  },
  {
   "cell_type": "code",
   "execution_count": 14,
   "metadata": {},
   "outputs": [
    {
     "name": "stdout",
     "output_type": "stream",
     "text": [
      "{'documents': [{'id': '0', 'text': \"Justin Trudeau toughens his stand on the world stage as he demands justice over plane downed by Iran Canadian Prime Minister Justin Trudeau emerged this week from a long holiday break to face a tragedy that may recast his nation's role on the global stage -- and its relationship with its powerful neighbor to the south.\"}, {'id': '1', 'text': 'Trump goes on Twitter tear as Pelosi readies articles of impeachment Trump unloaded on Pelosi and the Democrats in a series of tweets, lambasting impeachment as well as critics of his military confrontation with Iran.'}, {'id': '2', 'text': \"Trump's gamble, Iran's revenge, Canada's tragedy: Three consequences of a changing balance of power in the Middle East The U.S. killing of General Qassem Soleimani was a belated effort to reclaim the influence Washington has lost (and Tehran and others have gained) since the 2003 Iraq War, analysts say – and the chaotic changes in the region are far from over\"}, {'id': '3', 'text': \"Footage appears to show 'Iranian missile' bring down Ukrainian plane\"}, {'id': '4', 'text': '[Bon Plan] Sosh propose à nouveau son forfait mobile 50Go à 9,99€/mois Sosh propose actuellement son forfait mobile 50Go de data au prix de 9,99€/mois pendant un an !'}]}\n",
      "[{'id': '0', 'score': 0.5},\n",
      " {'id': '1', 'score': 0.5},\n",
      " {'id': '2', 'score': 0.02821558713912964},\n",
      " {'id': '3', 'score': 0.5},\n",
      " {'id': '4', 'score': 0.5}]\n"
     ]
    }
   ],
   "source": [
    "import requests\n",
    "#import config\n",
    "# pprint is used to format the JSON response\n",
    "from pprint import pprint\n",
    "import os\n",
    "AZURE_API_KEY = \"7cadd7aa228c4920b0b92cadcd7bb557\"\n",
    "AZURE_API_ENDPOINT = \"https://mountain.cognitiveservices.azure.com/\"\n",
    "def sentiments(document):\n",
    "    text = \"\"\n",
    "    doc_mount = [dict() for x in range(len(document[\"document\"]))]\n",
    "    for i in range(len(document[\"document\"])):\n",
    "        #doc_mount[i][\"id\"] = document[\"document\"][i][\"url\"]\n",
    "        doc_mount[i][\"id\"] = str(i)\n",
    "        #doc_mount[i][\"language\"] = \"en\" CALL TO LANGUE FUNC HERE\n",
    "        title = document[\"document\"][i][\"title\"].rsplit(\" -\", 1)[0]\n",
    "        if document[\"document\"][i][\"source\"]['name'] == 'Youtube.com':\n",
    "            doc_mount[i][\"text\"] = title\n",
    "        else:\n",
    "            doc_mount[i][\"text\"] = title + \" \" + document[\"document\"][i][\"description\"]\n",
    "    doc_mount = {\"documents\":doc_mount}\n",
    "    print(doc_mount)\n",
    "    subscription_key = AZURE_API_KEY\n",
    "    endpoint = AZURE_API_ENDPOINT\n",
    "    sentiment_url = endpoint + \"/text/analytics/v2.1/sentiment\"\n",
    "    # making a request\n",
    "    headers = {\"Ocp-Apim-Subscription-Key\": subscription_key}\n",
    "    # documents is the dictionary\n",
    "    response = requests.post(sentiment_url, headers=headers, json=doc_mount)\n",
    "    sentiments = response.json()\n",
    "    pprint(sentiments[\"documents\"])\n",
    "\n",
    "sentiments(document)"
   ]
  },
  {
   "cell_type": "code",
   "execution_count": 37,
   "metadata": {},
   "outputs": [
    {
     "name": "stdout",
     "output_type": "stream",
     "text": [
      "{'documents': [{'countryHint': 'US', 'id': '0', 'text': \"Justin Trudeau toughens his stand on the world stage as he demands justice over plane downed by Iran Canadian Prime Minister Justin Trudeau emerged this week from a long holiday break to face a tragedy that may recast his nation's role on the global stage -- and its relationship with its powerful neighbor to the south.\"}, {'countryHint': 'US', 'id': '1', 'text': 'Trump goes on Twitter tear as Pelosi readies articles of impeachment Trump unloaded on Pelosi and the Democrats in a series of tweets, lambasting impeachment as well as critics of his military confrontation with Iran.'}, {'countryHint': 'US', 'id': '2', 'text': \"Trump's gamble, Iran's revenge, Canada's tragedy: Three consequences of a changing balance of power in the Middle East The U.S. killing of General Qassem Soleimani was a belated effort to reclaim the influence Washington has lost (and Tehran and others have gained) since the 2003 Iraq War, analysts say – and the chaotic changes in the region are far from over\"}, {'countryHint': 'US', 'id': '3', 'text': \"Footage appears to show 'Iranian missile' bring down Ukrainian plane\"}, {'countryHint': 'US', 'id': '4', 'text': '[Bon Plan] Sosh propose à nouveau son forfait mobile 50Go à 9,99€/mois Sosh propose actuellement son forfait mobile 50Go de data au prix de 9,99€/mois pendant un an !'}]}\n"
     ]
    },
    {
     "ename": "AttributeError",
     "evalue": "'UnicodeEncodeError' object has no attribute 'errno'",
     "output_type": "error",
     "traceback": [
      "\u001b[0;31m---------------------------------------------------------------------------\u001b[0m",
      "\u001b[0;31mUnicodeEncodeError\u001b[0m                        Traceback (most recent call last)",
      "\u001b[0;32m<ipython-input-37-a538f23c9e6a>\u001b[0m in \u001b[0;36mgetLang\u001b[0;34m(lang)\u001b[0m\n\u001b[1;32m     22\u001b[0m         \u001b[0mconn\u001b[0m \u001b[0;34m=\u001b[0m \u001b[0mhttp\u001b[0m\u001b[0;34m.\u001b[0m\u001b[0mclient\u001b[0m\u001b[0;34m.\u001b[0m\u001b[0mHTTPSConnection\u001b[0m\u001b[0;34m(\u001b[0m\u001b[0;34m'westcentralus.api.cognitive.microsoft.com'\u001b[0m\u001b[0;34m)\u001b[0m\u001b[0;34m\u001b[0m\u001b[0;34m\u001b[0m\u001b[0m\n\u001b[0;32m---> 23\u001b[0;31m         \u001b[0mconn\u001b[0m\u001b[0;34m.\u001b[0m\u001b[0mrequest\u001b[0m\u001b[0;34m(\u001b[0m\u001b[0;34m\"POST\"\u001b[0m\u001b[0;34m,\u001b[0m \u001b[0;34m\"/text/analytics/v2.1/languages?%s\"\u001b[0m \u001b[0;34m%\u001b[0m \u001b[0mparams\u001b[0m\u001b[0;34m,\u001b[0m \u001b[0mstr\u001b[0m\u001b[0;34m(\u001b[0m\u001b[0mlang\u001b[0m\u001b[0;34m)\u001b[0m\u001b[0;34m,\u001b[0m \u001b[0mheaders\u001b[0m\u001b[0;34m)\u001b[0m\u001b[0;34m\u001b[0m\u001b[0;34m\u001b[0m\u001b[0m\n\u001b[0m\u001b[1;32m     24\u001b[0m         \u001b[0mresponse\u001b[0m \u001b[0;34m=\u001b[0m \u001b[0mconn\u001b[0m\u001b[0;34m.\u001b[0m\u001b[0mgetresponse\u001b[0m\u001b[0;34m(\u001b[0m\u001b[0;34m)\u001b[0m\u001b[0;34m\u001b[0m\u001b[0;34m\u001b[0m\u001b[0m\n",
      "\u001b[0;32m/Library/Frameworks/Python.framework/Versions/3.7/lib/python3.7/http/client.py\u001b[0m in \u001b[0;36mrequest\u001b[0;34m(self, method, url, body, headers, encode_chunked)\u001b[0m\n\u001b[1;32m   1243\u001b[0m         \u001b[0;34m\"\"\"Send a complete request to the server.\"\"\"\u001b[0m\u001b[0;34m\u001b[0m\u001b[0;34m\u001b[0m\u001b[0m\n\u001b[0;32m-> 1244\u001b[0;31m         \u001b[0mself\u001b[0m\u001b[0;34m.\u001b[0m\u001b[0m_send_request\u001b[0m\u001b[0;34m(\u001b[0m\u001b[0mmethod\u001b[0m\u001b[0;34m,\u001b[0m \u001b[0murl\u001b[0m\u001b[0;34m,\u001b[0m \u001b[0mbody\u001b[0m\u001b[0;34m,\u001b[0m \u001b[0mheaders\u001b[0m\u001b[0;34m,\u001b[0m \u001b[0mencode_chunked\u001b[0m\u001b[0;34m)\u001b[0m\u001b[0;34m\u001b[0m\u001b[0;34m\u001b[0m\u001b[0m\n\u001b[0m\u001b[1;32m   1245\u001b[0m \u001b[0;34m\u001b[0m\u001b[0m\n",
      "\u001b[0;32m/Library/Frameworks/Python.framework/Versions/3.7/lib/python3.7/http/client.py\u001b[0m in \u001b[0;36m_send_request\u001b[0;34m(self, method, url, body, headers, encode_chunked)\u001b[0m\n\u001b[1;32m   1288\u001b[0m             \u001b[0;31m# default charset of iso-8859-1.\u001b[0m\u001b[0;34m\u001b[0m\u001b[0;34m\u001b[0m\u001b[0;34m\u001b[0m\u001b[0m\n\u001b[0;32m-> 1289\u001b[0;31m             \u001b[0mbody\u001b[0m \u001b[0;34m=\u001b[0m \u001b[0m_encode\u001b[0m\u001b[0;34m(\u001b[0m\u001b[0mbody\u001b[0m\u001b[0;34m,\u001b[0m \u001b[0;34m'body'\u001b[0m\u001b[0;34m)\u001b[0m\u001b[0;34m\u001b[0m\u001b[0;34m\u001b[0m\u001b[0m\n\u001b[0m\u001b[1;32m   1290\u001b[0m         \u001b[0mself\u001b[0m\u001b[0;34m.\u001b[0m\u001b[0mendheaders\u001b[0m\u001b[0;34m(\u001b[0m\u001b[0mbody\u001b[0m\u001b[0;34m,\u001b[0m \u001b[0mencode_chunked\u001b[0m\u001b[0;34m=\u001b[0m\u001b[0mencode_chunked\u001b[0m\u001b[0;34m)\u001b[0m\u001b[0;34m\u001b[0m\u001b[0;34m\u001b[0m\u001b[0m\n",
      "\u001b[0;32m/Library/Frameworks/Python.framework/Versions/3.7/lib/python3.7/http/client.py\u001b[0m in \u001b[0;36m_encode\u001b[0;34m(data, name)\u001b[0m\n\u001b[1;32m    169\u001b[0m             \u001b[0;34m\"if you want to send it encoded in UTF-8.\"\u001b[0m \u001b[0;34m%\u001b[0m\u001b[0;34m\u001b[0m\u001b[0;34m\u001b[0m\u001b[0m\n\u001b[0;32m--> 170\u001b[0;31m             (name.title(), data[err.start:err.end], name)) from None\n\u001b[0m\u001b[1;32m    171\u001b[0m \u001b[0;34m\u001b[0m\u001b[0m\n",
      "\u001b[0;31mUnicodeEncodeError\u001b[0m: 'latin-1' codec can't encode character '\\u2013' in position 990: Body ('–') is not valid Latin-1. Use body.encode('utf-8') if you want to send it encoded in UTF-8.",
      "\nDuring handling of the above exception, another exception occurred:\n",
      "\u001b[0;31mAttributeError\u001b[0m                            Traceback (most recent call last)",
      "\u001b[0;32m<ipython-input-37-a538f23c9e6a>\u001b[0m in \u001b[0;36m<module>\u001b[0;34m\u001b[0m\n\u001b[1;32m     28\u001b[0m     \u001b[0;32mexcept\u001b[0m \u001b[0mException\u001b[0m \u001b[0;32mas\u001b[0m \u001b[0me\u001b[0m\u001b[0;34m:\u001b[0m\u001b[0;34m\u001b[0m\u001b[0;34m\u001b[0m\u001b[0m\n\u001b[1;32m     29\u001b[0m         \u001b[0mprint\u001b[0m\u001b[0;34m(\u001b[0m\u001b[0;34m\"[Errno {0}] {1}\"\u001b[0m\u001b[0;34m.\u001b[0m\u001b[0mformat\u001b[0m\u001b[0;34m(\u001b[0m\u001b[0me\u001b[0m\u001b[0;34m.\u001b[0m\u001b[0merrno\u001b[0m\u001b[0;34m,\u001b[0m \u001b[0me\u001b[0m\u001b[0;34m.\u001b[0m\u001b[0mstrerror\u001b[0m\u001b[0;34m)\u001b[0m\u001b[0;34m)\u001b[0m\u001b[0;34m\u001b[0m\u001b[0;34m\u001b[0m\u001b[0m\n\u001b[0;32m---> 30\u001b[0;31m \u001b[0mgetLang\u001b[0m\u001b[0;34m(\u001b[0m\u001b[0mlang\u001b[0m\u001b[0;34m)\u001b[0m\u001b[0;34m\u001b[0m\u001b[0;34m\u001b[0m\u001b[0m\n\u001b[0m",
      "\u001b[0;32m<ipython-input-37-a538f23c9e6a>\u001b[0m in \u001b[0;36mgetLang\u001b[0;34m(lang)\u001b[0m\n\u001b[1;32m     27\u001b[0m         \u001b[0mconn\u001b[0m\u001b[0;34m.\u001b[0m\u001b[0mclose\u001b[0m\u001b[0;34m(\u001b[0m\u001b[0;34m)\u001b[0m\u001b[0;34m\u001b[0m\u001b[0;34m\u001b[0m\u001b[0m\n\u001b[1;32m     28\u001b[0m     \u001b[0;32mexcept\u001b[0m \u001b[0mException\u001b[0m \u001b[0;32mas\u001b[0m \u001b[0me\u001b[0m\u001b[0;34m:\u001b[0m\u001b[0;34m\u001b[0m\u001b[0;34m\u001b[0m\u001b[0m\n\u001b[0;32m---> 29\u001b[0;31m         \u001b[0mprint\u001b[0m\u001b[0;34m(\u001b[0m\u001b[0;34m\"[Errno {0}] {1}\"\u001b[0m\u001b[0;34m.\u001b[0m\u001b[0mformat\u001b[0m\u001b[0;34m(\u001b[0m\u001b[0me\u001b[0m\u001b[0;34m.\u001b[0m\u001b[0merrno\u001b[0m\u001b[0;34m,\u001b[0m \u001b[0me\u001b[0m\u001b[0;34m.\u001b[0m\u001b[0mstrerror\u001b[0m\u001b[0;34m)\u001b[0m\u001b[0;34m)\u001b[0m\u001b[0;34m\u001b[0m\u001b[0;34m\u001b[0m\u001b[0m\n\u001b[0m\u001b[1;32m     30\u001b[0m \u001b[0mgetLang\u001b[0m\u001b[0;34m(\u001b[0m\u001b[0mlang\u001b[0m\u001b[0;34m)\u001b[0m\u001b[0;34m\u001b[0m\u001b[0;34m\u001b[0m\u001b[0m\n",
      "\u001b[0;31mAttributeError\u001b[0m: 'UnicodeEncodeError' object has no attribute 'errno'"
     ]
    }
   ],
   "source": [
    "import http.client, urllib.request, urllib.parse, urllib.error, base64\n",
    "lang = [dict() for x in range(len(document[\"document\"]))]\n",
    "d = {}\n",
    "for i in range(len(document[\"document\"])):\n",
    "        #lang[i][\"data\"] = \"en\"\n",
    "        title = document[\"document\"][i][\"title\"].rsplit(\" -\", 1)[0]\n",
    "        lang[i][\"countryHint\"] = \"US\"\n",
    "        lang[i][\"id\"] = str(i)\n",
    "        if document[\"document\"][i][\"source\"]['name'] == 'Youtube.com':\n",
    "            lang[i][\"text\"] = title\n",
    "        else:\n",
    "            lang[i][\"text\"] = title + \" \" + document[\"document\"][i][\"description\"]\n",
    "lang = {\"documents\":lang}\n",
    "print(lang)\n",
    "def getLang(lang):\n",
    "    headers = {\n",
    "        'Content-Type': 'application/json',\n",
    "        'Ocp-Apim-Subscription-Key': AZURE_API_KEY,\n",
    "    }\n",
    "    params = urllib.parse.urlencode({ })\n",
    "    try:\n",
    "        conn = http.client.HTTPSConnection('westcentralus.api.cognitive.microsoft.com')\n",
    "        conn.request(\"POST\", \"/text/analytics/v2.1/languages?%s\" % params, str(lang), headers)\n",
    "        response = conn.getresponse()\n",
    "        data = response.read()\n",
    "        print(data)\n",
    "        conn.close()\n",
    "    except Exception as e:\n",
    "        print(\"[Errno {0}] {1}\".format(e.errno, e.strerror))\n",
    "getLang(lang)"
   ]
  },
  {
   "cell_type": "code",
   "execution_count": 46,
   "metadata": {},
   "outputs": [
    {
     "name": "stdout",
     "output_type": "stream",
     "text": [
      "b'{\"error\":{\"code\":\"404\",\"message\": \"Resource not found\"}}'\n"
     ]
    }
   ],
   "source": [
    "body = {\n",
    "  \"documents\": [\n",
    "    {\n",
    "      \"countryHint\": \"US\",\n",
    "      \"id\": \"1\",\n",
    "      \"text\": \"Hello world\"\n",
    "    },\n",
    "    {\n",
    "      \"countryHint\": \"US\",\n",
    "      \"id\": \"2\",\n",
    "      \"text\": \"Bonjour tout le monde\"\n",
    "    },\n",
    "    {\n",
    "      \"countryHint\": \"US\",\n",
    "      \"id\": \"3\",\n",
    "      \"text\": \"La carretera estaba atascada. Había mucho tráfico el día de ayer.\"\n",
    "    },\n",
    "    {\n",
    "      \"countryHint\": \"US\",\n",
    "      \"id\": \"4\",\n",
    "      \"text\": \":) :( :D\"\n",
    "    }\n",
    "  ]\n",
    "}\n",
    "import http.client, urllib.request, urllib.parse, urllib.error, base64\n",
    "\n",
    "headers = {\n",
    "    # Request headers\n",
    "    'Content-Type': 'application/json',\n",
    "    'Ocp-Apim-Subscription-Key': AZURE_API_KEY,\n",
    "}\n",
    "\n",
    "params = urllib.parse.urlencode({\n",
    "    # Request parameters\n",
    "    'showStats': '{boolean}',\n",
    "})\n",
    "\n",
    "try:\n",
    "    conn = http.client.HTTPSConnection('https://westus.api.cognitive.microsoft.com')\n",
    "    conn.request(\"POST\", \"https://mountain.cognitiveservices.azure.com/text/analytics/v2.1/languages%s\" % params, str(body), headers)\n",
    "    response = conn.getresponse()\n",
    "    data = response.read()\n",
    "    print(data)\n",
    "    conn.close()\n",
    "except Exception as e:\n",
    "    print(\"[Errno {0}] {1}\".format(e.errno, e.strerror))"
   ]
  },
  {
   "cell_type": "markdown",
   "metadata": {},
   "source": [
    "## Refactor"
   ]
  },
  {
   "cell_type": "code",
   "execution_count": 54,
   "metadata": {},
   "outputs": [],
   "source": [
    "import requests\n",
    "\n",
    "lang = [dict() for x in range(len(document[\"document\"]))]\n",
    "d = {}\n",
    "for i in range(len(document[\"document\"])):\n",
    "        #lang[i][\"data\"] = \"en\"\n",
    "        title = document[\"document\"][i][\"title\"].rsplit(\" -\", 1)[0]\n",
    "        lang[i][\"countryHint\"] = \"US\"\n",
    "        lang[i][\"id\"] = str(i)\n",
    "        if document[\"document\"][i][\"source\"]['name'] == 'Youtube.com':\n",
    "            lang[i][\"text\"] = title\n",
    "        else:\n",
    "            lang[i][\"text\"] = title + \" \" + document[\"document\"][i][\"description\"]\n",
    "lang = {\"documents\":lang}\n",
    "\n",
    "AZURE_API_KEY = \"7cadd7aa228c4920b0b92cadcd7bb557\"\n",
    "AZURE_API_ENDPOINT = \"https://mountain.cognitiveservices.azure.com/text/analytics/v2.0/languages\"\n",
    "\"\"\"json_body = {\n",
    "  \"documents\": [\n",
    "    {\n",
    "      \"id\": \"1\",\n",
    "      \"text\": \"If this demo doesn't work I will be super sad\"\n",
    "    },\n",
    "    {\n",
    "      \"id\": \"2\",\n",
    "      \"text\": \"Español es muy difícil de aprender\"\n",
    "    },\n",
    "    {\n",
    "      \"id\": \"3\",\n",
    "      \"text\": \"I really really love machine learning\"\n",
    "    },\n",
    "    {\n",
    "      \"id\": \"4\",\n",
    "      \"text\": \"Le soleil se lève à l'Est\"\n",
    "    }\n",
    "  ]\n",
    "}\"\"\"\n",
    "\n",
    "endpoint = AZURE_API_ENDPOINT\n",
    "headers = {\n",
    "    \"Ocp-Apim-Subscription-Key\": AZURE_API_KEY\n",
    "}\n",
    "\n",
    "req = requests.post(url = endpoint, json = lang, headers = headers)"
   ]
  },
  {
   "cell_type": "code",
   "execution_count": 55,
   "metadata": {},
   "outputs": [
    {
     "data": {
      "text/plain": [
       "{'documents': [{'id': '0',\n",
       "   'detectedLanguages': [{'name': 'English',\n",
       "     'iso6391Name': 'en',\n",
       "     'score': 1.0}]},\n",
       "  {'id': '1',\n",
       "   'detectedLanguages': [{'name': 'English',\n",
       "     'iso6391Name': 'en',\n",
       "     'score': 1.0}]},\n",
       "  {'id': '2',\n",
       "   'detectedLanguages': [{'name': 'English',\n",
       "     'iso6391Name': 'en',\n",
       "     'score': 0.9841269850730896}]},\n",
       "  {'id': '3',\n",
       "   'detectedLanguages': [{'name': 'English',\n",
       "     'iso6391Name': 'en',\n",
       "     'score': 1.0}]},\n",
       "  {'id': '4',\n",
       "   'detectedLanguages': [{'name': 'French',\n",
       "     'iso6391Name': 'fr',\n",
       "     'score': 0.9285714030265808}]}],\n",
       " 'errors': []}"
      ]
     },
     "execution_count": 55,
     "metadata": {},
     "output_type": "execute_result"
    }
   ],
   "source": [
    "req.json()"
   ]
  },
  {
   "cell_type": "code",
   "execution_count": 71,
   "metadata": {},
   "outputs": [
    {
     "name": "stdout",
     "output_type": "stream",
     "text": [
      "{'documents': [{'id': '0', 'text': \"Justin Trudeau toughens his stand on the world stage as he demands justice over plane downed by Iran Canadian Prime Minister Justin Trudeau emerged this week from a long holiday break to face a tragedy that may recast his nation's role on the global stage -- and its relationship with its powerful neighbor to the south.\"}, {'id': '1', 'text': 'Trump goes on Twitter tear as Pelosi readies articles of impeachment Trump unloaded on Pelosi and the Democrats in a series of tweets, lambasting impeachment as well as critics of his military confrontation with Iran.'}, {'id': '2', 'text': \"Trump's gamble, Iran's revenge, Canada's tragedy: Three consequences of a changing balance of power in the Middle East The U.S. killing of General Qassem Soleimani was a belated effort to reclaim the influence Washington has lost (and Tehran and others have gained) since the 2003 Iraq War, analysts say – and the chaotic changes in the region are far from over\"}, {'id': '3', 'text': \"Footage appears to show 'Iranian missile' bring down Ukrainian plane\"}, {'id': '4', 'text': '[Bon Plan] Sosh propose à nouveau son forfait mobile 50Go à 9,99€/mois Sosh propose actuellement son forfait mobile 50Go de data au prix de 9,99€/mois pendant un an !'}]}\n",
      "[{'id': '0', 'detectedLanguages': [{'name': 'English', 'iso6391Name': 'en', 'score': 1.0}]}, {'id': '1', 'detectedLanguages': [{'name': 'English', 'iso6391Name': 'en', 'score': 1.0}]}, {'id': '2', 'detectedLanguages': [{'name': 'English', 'iso6391Name': 'en', 'score': 0.9841269850730896}]}, {'id': '3', 'detectedLanguages': [{'name': 'English', 'iso6391Name': 'en', 'score': 1.0}]}, {'id': '4', 'detectedLanguages': [{'name': 'French', 'iso6391Name': 'fr', 'score': 0.9285714030265808}]}]\n",
      "{'documents': [{'id': '0', 'text': \"Justin Trudeau toughens his stand on the world stage as he demands justice over plane downed by Iran Canadian Prime Minister Justin Trudeau emerged this week from a long holiday break to face a tragedy that may recast his nation's role on the global stage -- and its relationship with its powerful neighbor to the south.\", 'language': 'en'}, {'id': '1', 'text': 'Trump goes on Twitter tear as Pelosi readies articles of impeachment Trump unloaded on Pelosi and the Democrats in a series of tweets, lambasting impeachment as well as critics of his military confrontation with Iran.', 'language': 'en'}, {'id': '2', 'text': \"Trump's gamble, Iran's revenge, Canada's tragedy: Three consequences of a changing balance of power in the Middle East The U.S. killing of General Qassem Soleimani was a belated effort to reclaim the influence Washington has lost (and Tehran and others have gained) since the 2003 Iraq War, analysts say – and the chaotic changes in the region are far from over\", 'language': 'en'}, {'id': '3', 'text': \"Footage appears to show 'Iranian missile' bring down Ukrainian plane\", 'language': 'en'}, {'id': '4', 'text': '[Bon Plan] Sosh propose à nouveau son forfait mobile 50Go à 9,99€/mois Sosh propose actuellement son forfait mobile 50Go de data au prix de 9,99€/mois pendant un an !', 'language': 'fr'}]}\n",
      "[{'id': '0', 'score': 0.5},\n",
      " {'id': '1', 'score': 0.5},\n",
      " {'id': '2', 'score': 0.02821558713912964},\n",
      " {'id': '3', 'score': 0.5},\n",
      " {'id': '4', 'score': 0.8030303120613098}]\n"
     ]
    }
   ],
   "source": [
    "\n",
    "AZURE_API_KEY = \"7cadd7aa228c4920b0b92cadcd7bb557\"\n",
    "AZURE_API_ENDPOINT = \"https://mountain.cognitiveservices.azure.com/\"\n",
    "\n",
    "def language(documents):\n",
    "    lang = [dict() for x in range(len(document[\"document\"]))]\n",
    "    d = {}\n",
    "    for i in range(len(document[\"document\"])):\n",
    "            #lang[i][\"data\"] = \"en\"\n",
    "            title = document[\"document\"][i][\"title\"].rsplit(\" -\", 1)[0]\n",
    "            #lang[i][\"countryHint\"] = \"US\"\n",
    "            lang[i][\"id\"] = str(i)\n",
    "            if document[\"document\"][i][\"source\"]['name'] == 'Youtube.com':\n",
    "                lang[i][\"text\"] = title\n",
    "            else:\n",
    "                lang[i][\"text\"] = title + \" \" + document[\"document\"][i][\"description\"]\n",
    "    lang = {\"documents\":lang}\n",
    "    print(lang)\n",
    "    AZURE_API_KEY = \"7cadd7aa228c4920b0b92cadcd7bb557\"\n",
    "    ENDPOINT = AZURE_API_ENDPOINT+\"/text/analytics/v2.0/languages\"\n",
    "    endpoint = ENDPOINT\n",
    "    headers = {\n",
    "        \"Ocp-Apim-Subscription-Key\": AZURE_API_KEY\n",
    "    }\n",
    "    req = requests.post(url = endpoint, json = lang, headers = headers)\n",
    "    language = req.json()[\"documents\"]\n",
    "    print(language)\n",
    "    return language\n",
    "\n",
    "\n",
    "def sentiments(document):\n",
    "    languages = language(document)\n",
    "    text = \"\"\n",
    "    doc_mount = [dict() for x in range(len(document[\"document\"]))]\n",
    "    for i in range(len(document[\"document\"])):\n",
    "        #doc_mount[i][\"id\"] = document[\"document\"][i][\"url\"]\n",
    "        doc_mount[i][\"id\"] = str(i)\n",
    "        #doc_mount[i][\"language\"] = \"en\" CALL TO LANGUE FUNC HERE\n",
    "        title = document[\"document\"][i][\"title\"].rsplit(\" -\", 1)[0]\n",
    "        if document[\"document\"][i][\"source\"]['name'] == 'Youtube.com':\n",
    "            doc_mount[i][\"text\"] = title\n",
    "        else:\n",
    "            doc_mount[i][\"text\"] = title + \" \" + document[\"document\"][i][\"description\"]\n",
    "        doc_mount[i][\"language\"] = languages[i][\"detectedLanguages\"][0][\"iso6391Name\"]\n",
    "    doc_mount = {\"documents\":doc_mount}\n",
    "    print(doc_mount)\n",
    "    subscription_key = AZURE_API_KEY\n",
    "    endpoint = AZURE_API_ENDPOINT\n",
    "    sentiment_url = endpoint + \"/text/analytics/v2.1/sentiment\"\n",
    "    # making a request\n",
    "    headers = {\"Ocp-Apim-Subscription-Key\": subscription_key}\n",
    "    # documents is the dictionary\n",
    "    response = requests.post(sentiment_url, headers=headers, json=doc_mount)\n",
    "    sentiments = response.json()\n",
    "    pprint(sentiments[\"documents\"])\n",
    "\n",
    "sentiments(document)"
   ]
  },
  {
   "cell_type": "code",
   "execution_count": null,
   "metadata": {},
   "outputs": [],
   "source": []
  }
 ],
 "metadata": {
  "kernelspec": {
   "display_name": "Python 3",
   "language": "python",
   "name": "python3"
  },
  "language_info": {
   "codemirror_mode": {
    "name": "ipython",
    "version": 3
   },
   "file_extension": ".py",
   "mimetype": "text/x-python",
   "name": "python",
   "nbconvert_exporter": "python",
   "pygments_lexer": "ipython3",
   "version": "3.7.4"
  }
 },
 "nbformat": 4,
 "nbformat_minor": 4
}
